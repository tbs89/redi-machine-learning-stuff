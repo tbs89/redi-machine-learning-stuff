{
 "cells": [
  {
   "cell_type": "markdown",
   "id": "af18c558",
   "metadata": {},
   "source": [
    "# HOMEWORK"
   ]
  },
  {
   "cell_type": "markdown",
   "id": "98b68f9e",
   "metadata": {},
   "source": [
    "### Explanation"
   ]
  },
  {
   "cell_type": "markdown",
   "id": "71aaeff4",
   "metadata": {},
   "source": [
    "In this notebook, you will complete two tasks: the first task will be to apply feature engineering to transform and adapt the variables of the dataset, and the second task will be to train a linear regression model to predict the price of insurance policies.\n",
    "\n",
    "Dataset con be found [here](https://www.kaggle.com/datasets/mirichoi0218/insurance)"
   ]
  },
  {
   "cell_type": "code",
   "execution_count": 4,
   "id": "7c3d9007",
   "metadata": {},
   "outputs": [],
   "source": [
    "import pandas as pd\n",
    "import numpy as np\n",
    "import matplotlib.pyplot as plt\n",
    "\n",
    "from sklearn.model_selection import train_test_split\n",
    "from sklearn import metrics\n",
    "from sklearn.preprocessing import LabelEncoder,OneHotEncoder\n",
    "from sklearn.linear_model import LinearRegression"
   ]
  },
  {
   "cell_type": "markdown",
   "id": "bde1f0a9",
   "metadata": {},
   "source": [
    "### Load Dataset (TO-DO)"
   ]
  },
  {
   "cell_type": "code",
   "execution_count": null,
   "id": "def33ac2",
   "metadata": {},
   "outputs": [],
   "source": [
    "df = pd.read_csv(\"\")"
   ]
  },
  {
   "cell_type": "markdown",
   "id": "27ba81b7",
   "metadata": {},
   "source": [
    "### 1. EDA (TO-DO)"
   ]
  },
  {
   "cell_type": "markdown",
   "id": "c98b024d",
   "metadata": {},
   "source": [
    "**1.1 Print the first columns**"
   ]
  },
  {
   "cell_type": "code",
   "execution_count": null,
   "id": "35c11643",
   "metadata": {},
   "outputs": [],
   "source": []
  },
  {
   "cell_type": "markdown",
   "id": "c1e7c010",
   "metadata": {},
   "source": [
    "**1.2 Shape**"
   ]
  },
  {
   "cell_type": "code",
   "execution_count": null,
   "id": "5ffdbee9",
   "metadata": {},
   "outputs": [],
   "source": []
  },
  {
   "cell_type": "markdown",
   "id": "96aaa644",
   "metadata": {},
   "source": [
    "**1.3 Check column data type**"
   ]
  },
  {
   "cell_type": "code",
   "execution_count": null,
   "id": "5bfbf0b6",
   "metadata": {},
   "outputs": [],
   "source": []
  },
  {
   "cell_type": "markdown",
   "id": "dc6d2fc4",
   "metadata": {},
   "source": [
    "**1.3 Check if NaN Values**"
   ]
  },
  {
   "cell_type": "code",
   "execution_count": null,
   "id": "9d86ba46",
   "metadata": {},
   "outputs": [],
   "source": []
  },
  {
   "cell_type": "markdown",
   "id": "a99a7f08",
   "metadata": {},
   "source": [
    "**1.4 Print unique values for 'sex', 'smoker' and 'region'**"
   ]
  },
  {
   "cell_type": "code",
   "execution_count": null,
   "id": "be44fcb0",
   "metadata": {},
   "outputs": [],
   "source": []
  },
  {
   "cell_type": "code",
   "execution_count": null,
   "id": "25d5ae69",
   "metadata": {},
   "outputs": [],
   "source": []
  },
  {
   "cell_type": "code",
   "execution_count": null,
   "id": "0eab63e9",
   "metadata": {},
   "outputs": [],
   "source": []
  },
  {
   "cell_type": "markdown",
   "id": "16b7cebb",
   "metadata": {},
   "source": [
    "### 2. Feature Engineering (TO-DO)\n",
    "\n",
    "\n",
    "Task to be done:\n",
    "\n",
    "- Encode the column 'sex'\n",
    "- Encode the column 'smoker'\n",
    "- Get dummies from column 'region'"
   ]
  },
  {
   "cell_type": "markdown",
   "id": "d6981ee1",
   "metadata": {},
   "source": [
    "**2.1 Encode the variables 'sex' and 'smoker' using [LabelEncoder()](https://scikit-learn.org/stable/modules/generated/sklearn.preprocessing.LabelEncoder.html)**\n",
    "\n",
    "*__HINT__ LabelEncoder works with the same logic as OneHotEncoder (check the slides)*"
   ]
  },
  {
   "cell_type": "code",
   "execution_count": null,
   "id": "c1c950b6",
   "metadata": {},
   "outputs": [],
   "source": [
    "encoder = LabelEncoder()\n",
    "\n",
    "df['sex'] = #(TO-DO)\n",
    "df['smoker'] = #(TO-DO)\n",
    "\n",
    "# Visualize the results\n",
    "\n",
    "df.head()"
   ]
  },
  {
   "cell_type": "markdown",
   "id": "ffae28e6",
   "metadata": {},
   "source": [
    "**2.2 Encode the varibale 'region' using the function [get_dummies()](https://pandas.pydata.org/docs/reference/api/pandas.get_dummies.html)**\n",
    "\n",
    "- Create new columns from region values using pd.get_dummies\n",
    "- Drop the column 'region' from the dataframe\n",
    "- Append the new columns to the dataframe using pd.concat()"
   ]
  },
  {
   "cell_type": "code",
   "execution_count": null,
   "id": "2e18ab78",
   "metadata": {},
   "outputs": [],
   "source": [
    "# Creating new columns\n",
    "columns_region = #(TO-DO)\n",
    "\n",
    "# Drop column 'region' from the dataframe\n",
    "#(TO-DO)\n",
    "\n",
    "\n",
    "# Append the new columns to the dataframe (use pd.concat())\n",
    "#(TO-DO)\n",
    "\n",
    "# Visualize the dataframe\n",
    "df.head()"
   ]
  },
  {
   "cell_type": "markdown",
   "id": "a4372d12",
   "metadata": {},
   "source": [
    "## Linear Regression"
   ]
  },
  {
   "cell_type": "markdown",
   "id": "b5de4f04",
   "metadata": {},
   "source": [
    "**Determine wich columns are Independent (X) and which is the target(y)**"
   ]
  },
  {
   "cell_type": "code",
   "execution_count": null,
   "id": "2018ec76",
   "metadata": {},
   "outputs": [],
   "source": [
    "X = #(TO-DO)\n",
    "\n",
    "y = #(TO-DO)"
   ]
  },
  {
   "cell_type": "markdown",
   "id": "84cbfdaa",
   "metadata": {},
   "source": [
    "**Using train_test_split function, create 4 variables to train and test the model**"
   ]
  },
  {
   "cell_type": "code",
   "execution_count": null,
   "id": "0949b8a8",
   "metadata": {},
   "outputs": [],
   "source": [
    "X_train,X_test,y_train,y_test = #(TO-DO)"
   ]
  },
  {
   "cell_type": "markdown",
   "id": "fa61b31f",
   "metadata": {},
   "source": [
    "**Print the shapes of the sets**"
   ]
  },
  {
   "cell_type": "code",
   "execution_count": 10,
   "id": "e1debbcb",
   "metadata": {},
   "outputs": [],
   "source": [
    "# Shape of X sets\n",
    "#(TO-DO)"
   ]
  },
  {
   "cell_type": "code",
   "execution_count": 11,
   "id": "f4c694ff",
   "metadata": {},
   "outputs": [],
   "source": [
    "# Shape of y sets\n",
    "#(TO-DO)"
   ]
  },
  {
   "cell_type": "markdown",
   "id": "0653cded",
   "metadata": {},
   "source": [
    "### Train Model (Wednesday class)"
   ]
  },
  {
   "cell_type": "code",
   "execution_count": 12,
   "id": "5a069961",
   "metadata": {},
   "outputs": [],
   "source": [
    "# Creating an instance of the LinearRegression model\n",
    "\n",
    "#(TO-DO)\n",
    "\n",
    "# Fitting the linear regression model to the training data\n",
    "\n",
    "#(TO-DO)"
   ]
  },
  {
   "cell_type": "markdown",
   "id": "ee78ce00",
   "metadata": {},
   "source": [
    "#### Predictions \n",
    "\n",
    "Predict charges using the test dataset"
   ]
  },
  {
   "cell_type": "code",
   "execution_count": null,
   "id": "5ed0cc88",
   "metadata": {},
   "outputs": [],
   "source": [
    "# Predictions\n",
    "predictions = #(TO-DO)\n",
    "\n",
    "# Scatter plot\n",
    "plt.scatter(y_test, predictions, c='blue', label='Predictions') \n",
    "plt.scatter(y_test, y_test, c='red', label='Actual Values')\n",
    "\n",
    "plt.xlabel('Actual Values')\n",
    "plt.ylabel('Predicted Values')\n",
    "plt.title('Actual vs Predicted Values')\n",
    "plt.legend()\n",
    "\n",
    "# Show the plot\n",
    "plt.show()"
   ]
  },
  {
   "cell_type": "markdown",
   "id": "beec5667",
   "metadata": {},
   "source": [
    "**Print the score**"
   ]
  },
  {
   "cell_type": "code",
   "execution_count": null,
   "id": "22f988cd",
   "metadata": {},
   "outputs": [],
   "source": [
    "lm.score(#(TO-DO))"
   ]
  },
  {
   "cell_type": "code",
   "execution_count": null,
   "id": "f2165f33",
   "metadata": {},
   "outputs": [],
   "source": [
    "print('MAE:', metrics.mean_absolute_error(y_test, predictions))\n",
    "print('MSE:', metrics.mean_squared_error(y_test, predictions))\n",
    "print('RMSE:', np.sqrt(metrics.mean_squared_error(y_test, predictions)))"
   ]
  },
  {
   "cell_type": "markdown",
   "id": "48ce1dab",
   "metadata": {},
   "source": [
    "The linear regression model applied to the insurance dataset yielded the following metrics:\n",
    "\n",
    "- **Mean Absolute Error (MAE): 4125.34**  \n",
    "  This metric represents the average absolute difference between the actual values (`y_test`) and the predicted values (`predictions`). A MAE of 4125.34 indicates that, on average, the model's predictions are approximately 4125.34 units away from the actual insurance values. The lower the MAE, the closer the predictions are to the actual values, indicating better accuracy.\n",
    "\n",
    "- **Mean Squared Error (MSE): 33,022,578.48**  \n",
    "  MSE is similar to MAE but involves squaring the differences before averaging them. The high MSE of 33,022,578.48 suggests that the model’s predictions have significant deviations from the actual values. The squaring aspect of MSE penalizes larger errors more heavily, making it sensitive to outliers.\n",
    "\n",
    "- **Root Mean Squared Error (RMSE): 5746.53**  \n",
    "  RMSE is the square root of MSE, bringing it back to the same units as the response variable. An RMSE of 5746.53 implies that the model's predictions, on average, deviate by 5746.53 units from the actual values. Like MSE, a lower RMSE indicates a more accurate model.\n",
    "\n",
    "- **R-squared (R²): 0.7932**  \n",
    "  R² is the coefficient of determination, which measures the proportion of variance in the dependent variable that can be predicted from the independent variable(s). An R² value of 0.7932 means that approximately 79.32% of the variance in insurance costs is explained by the model. The closer R² is to 1, the better the model is at explaining the variance in the data.\n",
    "\n",
    "In summary, these metrics provide insights into the model's performance. The MAE, MSE, and RMSE values show the existence of errors in prediction, which is typical in real-world scenarios. The relatively high R² value indicates that the model is fairly good at explaining the variance in the data. However, the error metrics (MAE, MSE, RMSE) suggest potential areas for improvement in the model, possibly through more advanced feature engineering, utilization of different features, or exploring alternative modeling techniques."
   ]
  }
 ],
 "metadata": {
  "kernelspec": {
   "display_name": "Python 3 (ipykernel)",
   "language": "python",
   "name": "python3"
  },
  "language_info": {
   "codemirror_mode": {
    "name": "ipython",
    "version": 3
   },
   "file_extension": ".py",
   "mimetype": "text/x-python",
   "name": "python",
   "nbconvert_exporter": "python",
   "pygments_lexer": "ipython3",
   "version": "3.11.4"
  }
 },
 "nbformat": 4,
 "nbformat_minor": 5
}
