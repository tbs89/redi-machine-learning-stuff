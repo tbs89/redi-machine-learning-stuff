{
 "cells": [
  {
   "cell_type": "markdown",
   "id": "5001b3cd",
   "metadata": {},
   "source": [
    "# HOMEWORK"
   ]
  },
  {
   "cell_type": "markdown",
   "id": "6e87bfb6",
   "metadata": {},
   "source": [
    "## Explanation\n",
    "\n",
    "In this notebook we will work with the [Titanic Data Set](https://www.kaggle.com/c/titanic). We will perform Feature Engineering first and after that, we will train a logistic regression model to predict a classification- survival or deceased model."
   ]
  },
  {
   "cell_type": "code",
   "execution_count": 1,
   "id": "a8b6df0d",
   "metadata": {},
   "outputs": [],
   "source": [
    "import pandas as pd\n",
    "import numpy as np\n",
    "import matplotlib.pyplot as plt\n",
    "import seaborn as sns\n",
    "%matplotlib inline\n",
    "\n",
    "\n",
    "from sklearn.model_selection import train_test_split\n",
    "from sklearn.linear_model import LogisticRegression\n",
    "from sklearn.metrics import classification_report\n",
    "from sklearn.metrics import confusion_matrix\n",
    "from sklearn.preprocessing import LabelEncoder\n",
    "\n",
    "pd.set_option('display.max_columns', None)"
   ]
  },
  {
   "cell_type": "markdown",
   "id": "6d184b58",
   "metadata": {},
   "source": [
    "## Load Data"
   ]
  },
  {
   "cell_type": "markdown",
   "id": "fc22416a",
   "metadata": {},
   "source": [
    "Load the 'titanic_train.csv' dataset"
   ]
  },
  {
   "cell_type": "code",
   "execution_count": 2,
   "id": "b89ecc51",
   "metadata": {},
   "outputs": [],
   "source": [
    "df = #TO-DO"
   ]
  },
  {
   "cell_type": "markdown",
   "id": "2120e27b",
   "metadata": {},
   "source": [
    "### 1. EDA"
   ]
  },
  {
   "cell_type": "markdown",
   "id": "7dae0648",
   "metadata": {},
   "source": [
    "**Print the first columns**"
   ]
  },
  {
   "cell_type": "code",
   "execution_count": 2,
   "id": "a4079e14",
   "metadata": {},
   "outputs": [],
   "source": [
    "#TO-DO"
   ]
  },
  {
   "cell_type": "markdown",
   "id": "0f650e45",
   "metadata": {},
   "source": [
    "**Print the shape**"
   ]
  },
  {
   "cell_type": "code",
   "execution_count": 3,
   "id": "d9ae6cff",
   "metadata": {},
   "outputs": [],
   "source": [
    "#TO-DO"
   ]
  },
  {
   "cell_type": "markdown",
   "id": "3e1c5fc8",
   "metadata": {},
   "source": [
    "**Print column type**"
   ]
  },
  {
   "cell_type": "code",
   "execution_count": 4,
   "id": "d3cc26ee",
   "metadata": {},
   "outputs": [],
   "source": [
    "#TO-DO"
   ]
  },
  {
   "cell_type": "markdown",
   "id": "74431d6e",
   "metadata": {},
   "source": [
    "**Print NaN values**"
   ]
  },
  {
   "cell_type": "code",
   "execution_count": 5,
   "id": "fd282c55",
   "metadata": {},
   "outputs": [],
   "source": [
    "#TO-DO"
   ]
  },
  {
   "cell_type": "markdown",
   "id": "87a5a33e",
   "metadata": {},
   "source": [
    "**As we have NaN values for 'Age' column, input the values based on the class they belong**"
   ]
  },
  {
   "cell_type": "code",
   "execution_count": 6,
   "id": "f0e3d7a2",
   "metadata": {},
   "outputs": [],
   "source": [
    "#TO-DO"
   ]
  },
  {
   "cell_type": "markdown",
   "id": "ecc7a0a4",
   "metadata": {},
   "source": [
    "**Check again NaN Values and drop nan values if there are**"
   ]
  },
  {
   "cell_type": "code",
   "execution_count": 7,
   "id": "3e5c50d2",
   "metadata": {},
   "outputs": [],
   "source": [
    "#TO-DO"
   ]
  },
  {
   "cell_type": "markdown",
   "id": "f1dfed2a",
   "metadata": {},
   "source": [
    "### 2. Feature Engineering"
   ]
  },
  {
   "cell_type": "markdown",
   "id": "83c0572c",
   "metadata": {},
   "source": [
    "**Apply Get Dummies to 'Sex' and 'Embarked' columns and use the argument drop_first=True**"
   ]
  },
  {
   "cell_type": "code",
   "execution_count": 8,
   "id": "a33aa82e",
   "metadata": {},
   "outputs": [],
   "source": [
    "#TO-DO"
   ]
  },
  {
   "cell_type": "markdown",
   "id": "492adad6",
   "metadata": {},
   "source": [
    "**Create a column with the Title (Dr.,Mr.,Mrs,etc..) from the name as a feature**\n",
    "\n",
    "*__HINT__ Title always end with a dot (.) may be [this](https://www.w3schools.com/python/ref_string_endswith.asp) can be helpful*\n"
   ]
  },
  {
   "cell_type": "code",
   "execution_count": 9,
   "id": "60a39e0e",
   "metadata": {},
   "outputs": [],
   "source": [
    "#TO-DO"
   ]
  },
  {
   "cell_type": "markdown",
   "id": "64220501",
   "metadata": {},
   "source": [
    "**Create a feature with the Cabin letter**"
   ]
  },
  {
   "cell_type": "code",
   "execution_count": 10,
   "id": "be11d736",
   "metadata": {},
   "outputs": [],
   "source": [
    "#TO-DO"
   ]
  },
  {
   "cell_type": "markdown",
   "id": "7ae5886a",
   "metadata": {},
   "source": [
    "**Use get_dummies function to encode the new 2 columns**"
   ]
  },
  {
   "cell_type": "code",
   "execution_count": 11,
   "id": "c5229c9f",
   "metadata": {},
   "outputs": [],
   "source": [
    "#TO-DO"
   ]
  },
  {
   "cell_type": "code",
   "execution_count": 12,
   "id": "6c407e8d",
   "metadata": {},
   "outputs": [],
   "source": [
    "# Drop 'Sex','Embarked','Name','Ticket','Cabin' columns and be sure all columns are numerical\n",
    "#TO-DO"
   ]
  },
  {
   "cell_type": "markdown",
   "id": "9a938933",
   "metadata": {},
   "source": [
    "### 3. Train Model"
   ]
  },
  {
   "cell_type": "markdown",
   "id": "54e892a4",
   "metadata": {},
   "source": [
    "**Determine wich columns are predictors (X) and which the target (y)**"
   ]
  },
  {
   "cell_type": "code",
   "execution_count": 17,
   "id": "9baf9913",
   "metadata": {},
   "outputs": [],
   "source": [
    "X = #TO-DO\n",
    "\n",
    "y = #TO-DO"
   ]
  },
  {
   "cell_type": "markdown",
   "id": "f3772b50",
   "metadata": {},
   "source": [
    "**Split the dataset into train and test sets (80/20) and random_state=101**"
   ]
  },
  {
   "cell_type": "code",
   "execution_count": 18,
   "id": "a28ad435",
   "metadata": {},
   "outputs": [],
   "source": [
    "X_train, X_test, y_train, y_test = #TO-DO"
   ]
  },
  {
   "cell_type": "markdown",
   "id": "b1aeee03",
   "metadata": {},
   "source": [
    "**Train the model**"
   ]
  },
  {
   "cell_type": "code",
   "execution_count": null,
   "id": "7d18f332",
   "metadata": {},
   "outputs": [],
   "source": [
    "logmodel = LogisticRegression(max_iter=1000)\n",
    "\n",
    "logmodel.fit(#TO-DO)"
   ]
  },
  {
   "cell_type": "markdown",
   "id": "697e8d44",
   "metadata": {},
   "source": [
    "### Evaluation"
   ]
  },
  {
   "cell_type": "code",
   "execution_count": null,
   "id": "a8fb1d71",
   "metadata": {},
   "outputs": [],
   "source": [
    "# Get predictions using test dataset\n",
    "predictions = #TO-DO\n",
    "\n",
    "# Print report\n",
    "print(classification_report(y_test,predictions))"
   ]
  },
  {
   "cell_type": "code",
   "execution_count": null,
   "id": "d946a643",
   "metadata": {},
   "outputs": [],
   "source": [
    "# Generate confusion matrix\n",
    "conf_matrix = confusion_matrix(y_test, predictions)\n",
    "\n",
    "# Plotting the confusion matrix\n",
    "plt.figure(figsize=(10, 6))\n",
    "sns.heatmap(conf_matrix, annot=True, fmt='g', cmap='Blues')\n",
    "plt.title('Confusion Matrix')\n",
    "plt.ylabel('Actual Label')\n",
    "plt.xlabel('Predicted Label')\n",
    "plt.show()"
   ]
  },
  {
   "cell_type": "markdown",
   "id": "a462dc12",
   "metadata": {},
   "source": [
    "## How to Interpret a Confusion Matrix\n",
    "\n",
    "A confusion matrix is a visualization tool typically used in supervised learning to measure the performance of a classification algorithm. Here is a guide on how to interpret a confusion matrix:\n",
    "\n",
    "### Key Components:\n",
    "\n",
    "- **True Positives (TP)**: The number of correct positive predictions. In the provided matrix, TP is 37.\n",
    "\n",
    "- **True Negatives (TN)**: The number of correct negative predictions. Here, TN is 13.\n",
    "\n",
    "- **False Positives (FP)**: The number of incorrect positive predictions (Type I error). In the matrix, FP is 7.\n",
    "\n",
    "- **False Negatives (FN)**: The number of incorrect negative predictions (Type II error). The matrix shows FN as 4.\n",
    "\n",
    "### Derived Metrics:\n",
    "\n",
    "- **Accuracy**: Measures the proportion of true results (both true positives and true negatives) in the total data set. `(TP + TN) / (Total)`\n",
    "\n",
    "- **Precision**: Indicates the proportion of positive identifications that were actually correct. `TP / (TP + FP)`\n",
    "\n",
    "- **Recall (Sensitivity)**: Measures the proportion of actual positives that were identified correctly. `TP / (TP + FN)`\n",
    "\n",
    "- **Specificity**: Measures the proportion of actual negatives that were identified correctly. `TN / (TN + FP)`\n",
    "\n",
    "- **F1 Score**: The weighted average of Precision and Recall. `2 * (Precision * Recall) / (Precision + Recall)`\n",
    "\n",
    "### Interpretation Guide for Students:\n",
    "\n",
    "1. **Identify Elements**: Start by identifying the TP, TN, FP, and FN in your confusion matrix.\n",
    "\n",
    "2. **Calculate Metrics**: Using the definitions provided, calculate the accuracy, precision, recall, specificity, and F1 score for your model.\n",
    "\n",
    "3. **Model Performance**: Evaluate the model's performance based on these metrics. High values for precision and recall suggest a better performing model.\n",
    "\n",
    "4. **Balance Evaluation**: Consider the trade-off between precision and recall. An F1 score can help you understand the balance between these two metrics.\n",
    "\n",
    "By following this guide, you can determine the efficacy of your classification model and understand the implications of its performance in practical applications.\n"
   ]
  }
 ],
 "metadata": {
  "kernelspec": {
   "display_name": "Python 3 (ipykernel)",
   "language": "python",
   "name": "python3"
  },
  "language_info": {
   "codemirror_mode": {
    "name": "ipython",
    "version": 3
   },
   "file_extension": ".py",
   "mimetype": "text/x-python",
   "name": "python",
   "nbconvert_exporter": "python",
   "pygments_lexer": "ipython3",
   "version": "3.11.4"
  }
 },
 "nbformat": 4,
 "nbformat_minor": 5
}
